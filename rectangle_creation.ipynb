{
  "nbformat": 4,
  "nbformat_minor": 0,
  "metadata": {
    "colab": {
      "name": "rectangle_creation.ipynb",
      "provenance": [],
      "collapsed_sections": []
    },
    "kernelspec": {
      "name": "python3",
      "display_name": "Python 3"
    }
  },
  "cells": [
    {
      "cell_type": "code",
      "metadata": {
        "colab": {
          "base_uri": "https://localhost:8080/"
        },
        "id": "WAPpKw98WbaO",
        "outputId": "50ee02c0-2081-4c3b-fc14-58a91073dfb0"
      },
      "source": [
        "from google.colab import drive\n",
        "drive.mount('/content/drive',force_remount=True)\n",
        "fold = \"drive/My Drive/Colab Notebooks/smtdatatrials2/trials2/rectangle/\"\n",
        "import sys\n",
        "sys.path.insert(1, fold)"
      ],
      "execution_count": null,
      "outputs": [
        {
          "output_type": "stream",
          "text": [
            "Mounted at /content/drive\n"
          ],
          "name": "stdout"
        }
      ]
    },
    {
      "cell_type": "code",
      "metadata": {
        "id": "FQ-ltkC5WhN0"
      },
      "source": [
        "import math \n",
        "from PIL import Image, ImageDraw "
      ],
      "execution_count": null,
      "outputs": []
    },
    {
      "cell_type": "code",
      "metadata": {
        "id": "NkEcBM2anLnc"
      },
      "source": [
        "import os\n",
        "from PIL import Image, ImageOps\n",
        "import numpy as np\n",
        "from pathlib import Path"
      ],
      "execution_count": null,
      "outputs": []
    },
    {
      "cell_type": "code",
      "metadata": {
        "colab": {
          "base_uri": "https://localhost:8080/",
          "height": 217
        },
        "id": "kBcVxNtyV-to",
        "outputId": "adaeb872-3501-4af9-fd69-aea59acb6cd2"
      },
      "source": [
        "w,h = 200,200\n",
        "shape = [(50,50),(100,100)]                      #\n",
        "                                      #format ... [top right, bottom left] \n",
        "img = Image.new(\"RGB\",(w,h))\n",
        "img1 = ImageDraw.Draw(img)\n",
        "img1.rectangle(shape , fill = None, outline ='white')\n",
        "display(img)"
      ],
      "execution_count": null,
      "outputs": [
        {
          "output_type": "display_data",
          "data": {
            "image/png": "[encoded data removed]",
            "text/plain": [
              "<PIL.Image.Image image mode=RGB size=200x200 at 0x7F70D2E45E10>"
            ]
          },
          "metadata": {
            "tags": []
          }
        }
      ]
    },
    {
      "cell_type": "code",
      "metadata": {
        "colab": {
          "base_uri": "https://localhost:8080/"
        },
        "id": "BvLDnRZRaPtA",
        "outputId": "11a9a974-04c4-4ecb-b1f1-eea48d5b613a"
      },
      "source": [
        "counter = 0\n",
        "w,h = 15,15\n",
        "for i in range(0,13):\n",
        "  for j in range(0,13):\n",
        "    for i1 in range(i+2,15):\n",
        "      for j1 in range(j+2,15):\n",
        "        #want i<=i1, j<=j1.. also want these to be at least 2 greater to ensure the resulting shape is indeed a rectangle. \n",
        "        shape=[(i,j),(i1,j1)]\n",
        "        img = Image.new(\"RGB\",(w,h))\n",
        "        img1 = ImageDraw.Draw(img)\n",
        "        img1.rectangle(shape,fill = None, outline = \"white\")\n",
        "        #display(img)\n",
        "        i0 = str(i)\n",
        "        j0 = str(j)\n",
        "        i10 = str(i1)\n",
        "        j10 = str(j1)\n",
        "        img2 = ImageOps.grayscale(img)\n",
        "        img2.save(fold+\"rectanlge_p1_\" +i0+\"_\"+j0+\"_p2_\"+ i10 +\"_\"+j10 +\".png\",format=\"png\")\n",
        "        counter = counter+1\n",
        "print(counter)"
      ],
      "execution_count": null,
      "outputs": [
        {
          "output_type": "stream",
          "text": [
            "8281\n"
          ],
          "name": "stdout"
        }
      ]
    },
    {
      "cell_type": "markdown",
      "metadata": {
        "id": "a8VsoPyqeP6v"
      },
      "source": [
        "The above is before inversion; need to invert"
      ]
    },
    {
      "cell_type": "code",
      "metadata": {
        "id": "YRA0lAbkkn34"
      },
      "source": [
        "for filename in os.listdir(fold):\n",
        "    if filename.endswith(\".png\"):\n",
        "        #print(os.path.join(fold, filename))\n",
        "        #print(filename)          #............................. . jpg included\n",
        "        \n",
        "        \n",
        "        p = Image.open(os.path.join(fold, filename))           #p is the image\n",
        "\n",
        "        invert = ImageOps.invert(p)          #........invert colors\n",
        "        #invert = ImageOps.grayscale(invert1)              \n",
        "        invert.save(fold+\"inverted_\"+filename,format=\"png\")\n",
        "    else:\n",
        "        continue"
      ],
      "execution_count": null,
      "outputs": []
    }
  ]
}