{
  "nbformat": 4,
  "nbformat_minor": 0,
  "metadata": {
    "colab": {
      "name": "line_new.ipynb",
      "provenance": [],
      "collapsed_sections": []
    },
    "kernelspec": {
      "name": "python3",
      "display_name": "Python 3"
    }
  },
  "cells": [
    {
      "cell_type": "code",
      "metadata": {
        "id": "uPbVEiSYkdPA",
        "colab": {
          "base_uri": "https://localhost:8080/"
        },
        "outputId": "ce51163e-044e-4b74-cc71-3a830b9aa974"
      },
      "source": [
        "from google.colab import drive\n",
        "drive.mount('/content/drive')\n",
        "fold = \"drive/My Drive/Colab Notebooks/smtdatatrials2/line2/\"\n",
        "import sys\n",
        "sys.path.insert(1, fold)"
      ],
      "execution_count": null,
      "outputs": [
        {
          "output_type": "stream",
          "text": [
            "Mounted at /content/drive\n"
          ],
          "name": "stdout"
        }
      ]
    },
    {
      "cell_type": "code",
      "metadata": {
        "id": "h2tk3jONmhBX"
      },
      "source": [
        "import math \n",
        "from PIL import Image, ImageDraw "
      ],
      "execution_count": null,
      "outputs": []
    },
    {
      "cell_type": "code",
      "metadata": {
        "id": "NYIp8kFHnztm"
      },
      "source": [
        "import os\n",
        "from PIL import Image, ImageOps\n",
        "import numpy as np\n",
        "from pathlib import Path"
      ],
      "execution_count": null,
      "outputs": []
    },
    {
      "cell_type": "code",
      "metadata": {
        "id": "IwWIwRz0mkr1",
        "colab": {
          "base_uri": "https://localhost:8080/",
          "height": 35
        },
        "outputId": "5de87b13-10f7-43c6-99b3-9054ea10f410"
      },
      "source": [
        "w, h = 15, 15\n",
        "shape = [(0,0), (15, 2)] \n",
        "img = Image.new(\"RGB\", (w, h)) \n",
        "img1 = ImageDraw.Draw(img)   \n",
        "img1.line(shape, fill =\"white\", width = 0) \n",
        "display(img)"
      ],
      "execution_count": null,
      "outputs": [
        {
          "output_type": "display_data",
          "data": {
            "image/png": "[encoded data removed]",
            "text/plain": [
              "<PIL.Image.Image image mode=RGB size=15x15 at 0x7F9FBD76FDD8>"
            ]
          },
          "metadata": {
            "tags": []
          }
        }
      ]
    },
    {
      "cell_type": "markdown",
      "metadata": {
        "id": "-wUaYzpAmmN7"
      },
      "source": [
        "fasdfadsfadsfadsfdasfds"
      ]
    },
    {
      "cell_type": "code",
      "metadata": {
        "id": "76zxrRbZmnGW",
        "colab": {
          "base_uri": "https://localhost:8080/"
        },
        "outputId": "b09a2f39-45bd-41ba-8e39-3c8796b7e95f"
      },
      "source": [
        "#we're only allowing purely diagonal lines, or flat/top-bottom\n",
        "counter=0\n",
        "\n",
        "# given two points.. connect them. condition.. the first point is above the second... i.e y coordinate of 1 is less than y coordinate of 2\n",
        "w, h = 15, 15\n",
        "\n",
        "for i in range(0,15):\n",
        "  for j in range(0,15):#will say that thing needs to be at least 8 pixels long tobe considered a line(has to take approx half the box to register as a line)\n",
        "    for i1 in range(0,15):\n",
        "      for j1 in range(j,15):\n",
        "        if ((j1<j+8) and (i1>=i+8 or i>=i1+8)) or (j1>=j+8): #ensuring the size\n",
        "          shape = [(i,j),(i1,j1)]\n",
        "          img = Image.new(\"RGB\", (w, h)) \n",
        "          img1 = ImageDraw.Draw(img)\n",
        "          img1.line(shape, fill =\"white\", width = 0)\n",
        "          i0 = str(i)\n",
        "          j0 = str(j)\n",
        "          i10 = str(i1)\n",
        "          j10 = str(j1)          \n",
        "          \n",
        "          img2 = ImageOps.grayscale(img)\n",
        "          img2.save(fold+\"line_p1_\" +i0+\"_\"+j0+\"_p2_\"+ i10 +\"_\"+j10 +\".png\",format=\"png\")\n",
        "          counter=counter+1\n",
        "print(counter)"
      ],
      "execution_count": null,
      "outputs": [
        {
          "output_type": "stream",
          "text": [
            "11452\n"
          ],
          "name": "stdout"
        }
      ]
    },
    {
      "cell_type": "code",
      "metadata": {
        "id": "wQppgh14FDZH"
      },
      "source": [
        "for filename in os.listdir(fold):\n",
        "    if filename.endswith(\".png\"):\n",
        "        #print(os.path.join(fold, filename))\n",
        "        #print(filename)          #............................. . jpg included\n",
        "        \n",
        "        \n",
        "        p = Image.open(os.path.join(fold, filename))           #p is the image\n",
        "\n",
        "        invert = ImageOps.invert(p)          #........invert colors\n",
        "        #invert = ImageOps.grayscale(invert1)              \n",
        "        invert.save(fold+\"inverted_\"+filename,format=\"png\")\n",
        "    else:\n",
        "        continue"
      ],
      "execution_count": null,
      "outputs": []
    }
  ]
}