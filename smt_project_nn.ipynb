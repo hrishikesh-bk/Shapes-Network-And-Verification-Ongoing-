{
  "nbformat": 4,
  "nbformat_minor": 0,
  "metadata": {
    "colab": {
      "name": "smt_project_nn.ipynb",
      "provenance": [],
      "collapsed_sections": []
    },
    "kernelspec": {
      "name": "python3",
      "display_name": "Python 3"
    }
  },
  "cells": [
    {
      "cell_type": "code",
      "metadata": {
        "colab": {
          "base_uri": "https://localhost:8080/"
        },
        "id": "RizdTcxNR15Z",
        "outputId": "57c61621-4c41-4dbb-bff1-814dc8dafd60"
      },
      "source": [
        "pip install z3-solver"
      ],
      "execution_count": null,
      "outputs": [
        {
          "output_type": "stream",
          "text": [
            "Collecting z3-solver\n",
            "\u001b[?25l  Downloading https://files.pythonhosted.org/packages/6d/51/86d4d708593b77dd43e1154f25b107d9d9a3300da49759c88254192a0a04/z3_solver-4.8.9.0-py2.py3-none-manylinux1_x86_64.whl (30.5MB)\n",
            "\u001b[K     |████████████████████████████████| 30.5MB 148kB/s \n",
            "\u001b[?25hInstalling collected packages: z3-solver\n",
            "Successfully installed z3-solver-4.8.9.0\n"
          ],
          "name": "stdout"
        }
      ]
    },
    {
      "cell_type": "code",
      "metadata": {
        "colab": {
          "base_uri": "https://localhost:8080/"
        },
        "id": "j7v5pZc0R4qD",
        "outputId": "3fca9b5e-522e-42d7-c0f1-383888c97993"
      },
      "source": [
        "pip install tensorflow"
      ],
      "execution_count": null,
      "outputs": [
        {
          "output_type": "stream",
          "text": [
            "Requirement already satisfied: tensorflow in /usr/local/lib/python3.6/dist-packages (2.4.0)\n",
            "Requirement already satisfied: six~=1.15.0 in /usr/local/lib/python3.6/dist-packages (from tensorflow) (1.15.0)\n",
            "Requirement already satisfied: h5py~=2.10.0 in /usr/local/lib/python3.6/dist-packages (from tensorflow) (2.10.0)\n",
            "Requirement already satisfied: absl-py~=0.10 in /usr/local/lib/python3.6/dist-packages (from tensorflow) (0.10.0)\n",
            "Requirement already satisfied: numpy~=1.19.2 in /usr/local/lib/python3.6/dist-packages (from tensorflow) (1.19.4)\n",
            "Requirement already satisfied: protobuf>=3.9.2 in /usr/local/lib/python3.6/dist-packages (from tensorflow) (3.12.4)\n",
            "Requirement already satisfied: typing-extensions~=3.7.4 in /usr/local/lib/python3.6/dist-packages (from tensorflow) (3.7.4.3)\n",
            "Requirement already satisfied: tensorboard~=2.4 in /usr/local/lib/python3.6/dist-packages (from tensorflow) (2.4.0)\n",
            "Requirement already satisfied: grpcio~=1.32.0 in /usr/local/lib/python3.6/dist-packages (from tensorflow) (1.32.0)\n",
            "Requirement already satisfied: wheel~=0.35 in /usr/local/lib/python3.6/dist-packages (from tensorflow) (0.36.2)\n",
            "Requirement already satisfied: opt-einsum~=3.3.0 in /usr/local/lib/python3.6/dist-packages (from tensorflow) (3.3.0)\n",
            "Requirement already satisfied: wrapt~=1.12.1 in /usr/local/lib/python3.6/dist-packages (from tensorflow) (1.12.1)\n",
            "Requirement already satisfied: termcolor~=1.1.0 in /usr/local/lib/python3.6/dist-packages (from tensorflow) (1.1.0)\n",
            "Requirement already satisfied: astunparse~=1.6.3 in /usr/local/lib/python3.6/dist-packages (from tensorflow) (1.6.3)\n",
            "Requirement already satisfied: tensorflow-estimator<2.5.0,>=2.4.0rc0 in /usr/local/lib/python3.6/dist-packages (from tensorflow) (2.4.0)\n",
            "Requirement already satisfied: gast==0.3.3 in /usr/local/lib/python3.6/dist-packages (from tensorflow) (0.3.3)\n",
            "Requirement already satisfied: google-pasta~=0.2 in /usr/local/lib/python3.6/dist-packages (from tensorflow) (0.2.0)\n",
            "Requirement already satisfied: keras-preprocessing~=1.1.2 in /usr/local/lib/python3.6/dist-packages (from tensorflow) (1.1.2)\n",
            "Requirement already satisfied: flatbuffers~=1.12.0 in /usr/local/lib/python3.6/dist-packages (from tensorflow) (1.12)\n",
            "Requirement already satisfied: setuptools in /usr/local/lib/python3.6/dist-packages (from protobuf>=3.9.2->tensorflow) (51.0.0)\n",
            "Requirement already satisfied: google-auth<2,>=1.6.3 in /usr/local/lib/python3.6/dist-packages (from tensorboard~=2.4->tensorflow) (1.17.2)\n",
            "Requirement already satisfied: markdown>=2.6.8 in /usr/local/lib/python3.6/dist-packages (from tensorboard~=2.4->tensorflow) (3.3.3)\n",
            "Requirement already satisfied: tensorboard-plugin-wit>=1.6.0 in /usr/local/lib/python3.6/dist-packages (from tensorboard~=2.4->tensorflow) (1.7.0)\n",
            "Requirement already satisfied: google-auth-oauthlib<0.5,>=0.4.1 in /usr/local/lib/python3.6/dist-packages (from tensorboard~=2.4->tensorflow) (0.4.2)\n",
            "Requirement already satisfied: werkzeug>=0.11.15 in /usr/local/lib/python3.6/dist-packages (from tensorboard~=2.4->tensorflow) (1.0.1)\n",
            "Requirement already satisfied: requests<3,>=2.21.0 in /usr/local/lib/python3.6/dist-packages (from tensorboard~=2.4->tensorflow) (2.23.0)\n",
            "Requirement already satisfied: pyasn1-modules>=0.2.1 in /usr/local/lib/python3.6/dist-packages (from google-auth<2,>=1.6.3->tensorboard~=2.4->tensorflow) (0.2.8)\n",
            "Requirement already satisfied: rsa<5,>=3.1.4; python_version >= \"3\" in /usr/local/lib/python3.6/dist-packages (from google-auth<2,>=1.6.3->tensorboard~=2.4->tensorflow) (4.6)\n",
            "Requirement already satisfied: cachetools<5.0,>=2.0.0 in /usr/local/lib/python3.6/dist-packages (from google-auth<2,>=1.6.3->tensorboard~=2.4->tensorflow) (4.2.0)\n",
            "Requirement already satisfied: importlib-metadata; python_version < \"3.8\" in /usr/local/lib/python3.6/dist-packages (from markdown>=2.6.8->tensorboard~=2.4->tensorflow) (3.3.0)\n",
            "Requirement already satisfied: requests-oauthlib>=0.7.0 in /usr/local/lib/python3.6/dist-packages (from google-auth-oauthlib<0.5,>=0.4.1->tensorboard~=2.4->tensorflow) (1.3.0)\n",
            "Requirement already satisfied: chardet<4,>=3.0.2 in /usr/local/lib/python3.6/dist-packages (from requests<3,>=2.21.0->tensorboard~=2.4->tensorflow) (3.0.4)\n",
            "Requirement already satisfied: idna<3,>=2.5 in /usr/local/lib/python3.6/dist-packages (from requests<3,>=2.21.0->tensorboard~=2.4->tensorflow) (2.10)\n",
            "Requirement already satisfied: certifi>=2017.4.17 in /usr/local/lib/python3.6/dist-packages (from requests<3,>=2.21.0->tensorboard~=2.4->tensorflow) (2020.12.5)\n",
            "Requirement already satisfied: urllib3!=1.25.0,!=1.25.1,<1.26,>=1.21.1 in /usr/local/lib/python3.6/dist-packages (from requests<3,>=2.21.0->tensorboard~=2.4->tensorflow) (1.24.3)\n",
            "Requirement already satisfied: pyasn1<0.5.0,>=0.4.6 in /usr/local/lib/python3.6/dist-packages (from pyasn1-modules>=0.2.1->google-auth<2,>=1.6.3->tensorboard~=2.4->tensorflow) (0.4.8)\n",
            "Requirement already satisfied: zipp>=0.5 in /usr/local/lib/python3.6/dist-packages (from importlib-metadata; python_version < \"3.8\"->markdown>=2.6.8->tensorboard~=2.4->tensorflow) (3.4.0)\n",
            "Requirement already satisfied: oauthlib>=3.0.0 in /usr/local/lib/python3.6/dist-packages (from requests-oauthlib>=0.7.0->google-auth-oauthlib<0.5,>=0.4.1->tensorboard~=2.4->tensorflow) (3.1.0)\n"
          ],
          "name": "stdout"
        }
      ]
    },
    {
      "cell_type": "code",
      "metadata": {
        "id": "4iqpsvIOR9CL"
      },
      "source": [
        "import numpy as np\n",
        "import math\n",
        "import matplotlib.pyplot as plt\n",
        "import random"
      ],
      "execution_count": null,
      "outputs": []
    },
    {
      "cell_type": "code",
      "metadata": {
        "id": "mdcewzECqw3y"
      },
      "source": [
        "import tensorflow as tf\n",
        "import os\n",
        "from tensorflow import keras\n",
        "from tensorflow.keras import layers\n",
        "#Dependencies\n",
        "import keras\n",
        "from keras.models import Sequential\n",
        "from keras.layers import Dense\n",
        " \n",
        "#sklearn.model_selection.train_test_split(*arrays, **options)\n",
        "from sklearn.model_selection import train_test_split\n",
        " \n",
        "from PIL import Image, ImageOps\n",
        "from keras.layers.convolutional import Conv2D"
      ],
      "execution_count": null,
      "outputs": []
    },
    {
      "cell_type": "code",
      "metadata": {
        "id": "Rvkqkrmw0G25"
      },
      "source": [
        "from keras.preprocessing.image import ImageDataGenerator\n"
      ],
      "execution_count": null,
      "outputs": []
    },
    {
      "cell_type": "markdown",
      "metadata": {
        "id": "R-VJO7Fe0Y14"
      },
      "source": [
        "..................................................................."
      ]
    },
    {
      "cell_type": "code",
      "metadata": {
        "colab": {
          "base_uri": "https://localhost:8080/"
        },
        "id": "Le4k_Th50guN",
        "outputId": "75b1ffd7-d15c-4107-b9d2-eb923f6b3a75"
      },
      "source": [
        "#trial path\n",
        "from google.colab import drive\n",
        "drive.mount('/content/drive')\n",
        "fold = \"drive/My Drive/Colab Notebooks/smtdatatrials2/trials2/\" \n",
        "import sys\n",
        "sys.path.insert(1, fold)\n",
        "\n",
        "trials= fold+'sample'#for this trail, I've put some ra and lines in thr trials folder... they're in their own folder within the trials folder"
      ],
      "execution_count": null,
      "outputs": [
        {
          "output_type": "stream",
          "text": [
            "Drive already mounted at /content/drive; to attempt to forcibly remount, call drive.mount(\"/content/drive\", force_remount=True).\n"
          ],
          "name": "stdout"
        }
      ]
    },
    {
      "cell_type": "markdown",
      "metadata": {
        "id": "5VV0qox-22qa"
      },
      "source": [
        "trying something with the grayscale"
      ]
    },
    {
      "cell_type": "code",
      "metadata": {
        "id": "HAxBzhSO28A4"
      },
      "source": [
        ""
      ],
      "execution_count": null,
      "outputs": []
    },
    {
      "cell_type": "markdown",
      "metadata": {
        "id": "76y5fT5j3iXa"
      },
      "source": [
        "sdsfguhi;o;iuyktjrhsdfg"
      ]
    },
    {
      "cell_type": "code",
      "metadata": {
        "colab": {
          "base_uri": "https://localhost:8080/"
        },
        "id": "3hmtSHGKFbUx",
        "outputId": "9722019a-46aa-4817-92fa-b097c82a3599"
      },
      "source": [
        "batches = ImageDataGenerator().flow_from_directory(trials,color_mode=\"grayscale\",target_size = (15,15),classes = [\"rectangle\",\"line\",\"da\",\"ra\"], batch_size = 6) #steps per epoch is 264/6 = 44\n",
        "#https://keras.io/api/preprocessing/image/\n",
        "print(batches)"
      ],
      "execution_count": null,
      "outputs": [
        {
          "output_type": "stream",
          "text": [
            "Found 4136 images belonging to 4 classes.\n",
            "<tensorflow.python.keras.preprocessing.image.DirectoryIterator object at 0x7f05fac9c1d0>\n"
          ],
          "name": "stdout"
        }
      ]
    },
    {
      "cell_type": "markdown",
      "metadata": {
        "id": "t-lAhwivtVku"
      },
      "source": [
        "................................................."
      ]
    },
    {
      "cell_type": "markdown",
      "metadata": {
        "id": "ULBuBG6ZL27H"
      },
      "source": [
        "see images..(don't need for final code)"
      ]
    },
    {
      "cell_type": "code",
      "metadata": {
        "id": "R3wYuIisMS4M"
      },
      "source": [
        "import numpy as np\n",
        "import matplotlib.pyplot as plt\n",
        "from sklearn.metrics import confusion_matrix\n",
        "import itertools"
      ],
      "execution_count": null,
      "outputs": []
    },
    {
      "cell_type": "markdown",
      "metadata": {
        "id": "f9ieigYEC-TK"
      },
      "source": [
        "#Image to list"
      ]
    },
    {
      "cell_type": "code",
      "metadata": {
        "id": "oUs8ksIxL1Td"
      },
      "source": [
        "\r\n",
        "#for folder in os.listdir(trials):\r\n",
        "#  print(folder)\r\n",
        "#  if folder =='line':\r\n",
        "#    print(\"fadfds\")\r\n",
        "input = []\r\n",
        "output = []\r\n",
        "for folder in os.listdir(trials):\r\n",
        "  if folder == \"rectangle\":\r\n",
        "    for filename in os.listdir(trials+\"/\"+folder):\r\n",
        "      if filename.endswith(\".png\"):\r\n",
        "        img = Image.open(trials+\"/\"+folder+\"/\"+filename)\r\n",
        "        array1 = np.array(img).astype('uint8')\r\n",
        "        listform = np.concatenate(array1).ravel().tolist()#converts image into a list\r\n",
        "        input.append(listform)\r\n",
        "        output.append([1,0,0,0])               #1,0\r\n",
        "  elif folder == \"line\":\r\n",
        "    for filename in os.listdir(trials+\"/\"+folder):\r\n",
        "      if filename.endswith(\".png\"):\r\n",
        "        img = Image.open(trials+\"/\"+folder+\"/\"+filename)\r\n",
        "        array1 = np.array(img).astype('uint8')\r\n",
        "        listform = np.concatenate(array1).ravel().tolist()#converts image into a list\r\n",
        "        #print(listform)\r\n",
        "        input.append(listform)\r\n",
        "        output.append([0,1,0,0])                      #0,1\r\n",
        "  elif folder == \"da\":\r\n",
        "    for filename in os.listdir(trials+\"/\"+folder):\r\n",
        "      if filename.endswith(\".png\"):\r\n",
        "        img = Image.open(trials+\"/\"+folder+\"/\"+filename)\r\n",
        "        array1 = np.array(img).astype('uint8')\r\n",
        "        listform = np.concatenate(array1).ravel().tolist()#converts image into a list\r\n",
        "        #print(listform)\r\n",
        "        input.append(listform)\r\n",
        "        output.append([0,0,1,0])                      #0,1\r\n",
        "  elif folder == \"ra\":\r\n",
        "    for filename in os.listdir(trials+\"/\"+folder):\r\n",
        "      if filename.endswith(\".png\"):\r\n",
        "        img = Image.open(trials+\"/\"+folder+\"/\"+filename)\r\n",
        "        array1 = np.array(img).astype('uint8')\r\n",
        "        listform = np.concatenate(array1).ravel().tolist()#converts image into a list\r\n",
        "        #print(listform)\r\n",
        "        input.append(listform)\r\n",
        "        output.append([0,0,0,1])                      #0,1\r\n",
        "\r\n",
        "#print(input[:150])\r\n",
        "#print(output[:150])\r\n",
        "#print(len(input))\r\n",
        "#print(len(output))"
      ],
      "execution_count": null,
      "outputs": []
    },
    {
      "cell_type": "markdown",
      "metadata": {
        "id": "qgML3bYQZDfq"
      },
      "source": [
        "input;output. Now we make training data."
      ]
    },
    {
      "cell_type": "code",
      "metadata": {
        "id": "diQcMEfeZJrc",
        "colab": {
          "base_uri": "https://localhost:8080/"
        },
        "outputId": "cfb539ee-2160-4e1f-9c36-6e9e24eeb8e3"
      },
      "source": [
        "x_train, x_test, y_train, y_test = train_test_split(input,output, test_size=0.25)\r\n",
        "print(x_train[:2])\r\n",
        "print(y_train[:2])\r\n",
        "print(x_test[:2])\r\n",
        "print(y_test[:2])\r\n",
        "print(len(x_train))"
      ],
      "execution_count": null,
      "outputs": [
        {
          "output_type": "stream",
          "text": [
            "[[0, 0, 0, 0, 0, 0, 0, 0, 0, 0, 0, 0, 0, 0, 0, 0, 0, 0, 0, 0, 0, 0, 0, 0, 0, 0, 0, 0, 0, 0, 0, 0, 0, 0, 0, 0, 0, 0, 0, 0, 0, 0, 0, 0, 0, 0, 0, 0, 0, 0, 0, 0, 0, 0, 0, 0, 0, 0, 0, 0, 0, 0, 0, 0, 0, 0, 0, 0, 0, 0, 0, 0, 0, 0, 0, 0, 0, 0, 0, 0, 0, 0, 0, 0, 0, 0, 0, 0, 0, 0, 0, 0, 0, 0, 0, 0, 0, 0, 0, 0, 0, 0, 0, 0, 0, 0, 0, 0, 0, 0, 0, 0, 0, 0, 0, 0, 0, 0, 0, 0, 0, 0, 0, 0, 0, 0, 0, 0, 0, 0, 0, 0, 0, 0, 0, 0, 0, 0, 0, 0, 0, 0, 0, 0, 0, 0, 0, 0, 0, 0, 0, 0, 0, 0, 0, 0, 0, 0, 0, 0, 0, 0, 0, 0, 0, 0, 0, 0, 0, 0, 0, 0, 0, 0, 0, 0, 0, 0, 0, 0, 0, 0, 0, 0, 0, 0, 0, 0, 0, 0, 0, 0, 0, 0, 0, 0, 0, 0, 0, 0, 0, 0, 0, 0, 0, 0, 0, 0, 0, 0, 0, 0, 0, 0, 0, 0, 0, 0, 0, 0, 0, 0, 0, 0, 0], [255, 255, 255, 255, 255, 255, 255, 255, 255, 255, 255, 255, 255, 255, 255, 255, 255, 255, 255, 255, 255, 255, 255, 255, 255, 255, 255, 255, 255, 255, 255, 255, 255, 255, 255, 255, 255, 255, 255, 255, 255, 255, 255, 255, 255, 255, 255, 255, 255, 255, 255, 255, 255, 255, 255, 255, 255, 255, 255, 255, 255, 255, 255, 255, 255, 255, 255, 255, 255, 255, 255, 255, 255, 255, 255, 255, 255, 255, 255, 255, 255, 255, 255, 255, 255, 255, 255, 255, 255, 255, 255, 255, 255, 255, 255, 255, 255, 255, 255, 255, 255, 255, 255, 255, 255, 255, 255, 255, 255, 255, 255, 255, 255, 255, 255, 255, 255, 255, 255, 255, 255, 255, 255, 255, 255, 255, 255, 255, 255, 255, 255, 255, 255, 255, 255, 255, 255, 255, 255, 255, 255, 255, 255, 255, 255, 255, 255, 255, 255, 255, 255, 255, 255, 255, 255, 255, 255, 255, 255, 255, 255, 255, 255, 255, 255, 255, 255, 255, 255, 255, 255, 255, 255, 255, 255, 255, 255, 255, 255, 255, 255, 255, 255, 255, 255, 255, 255, 255, 255, 255, 255, 255, 255, 255, 255, 255, 255, 255, 255, 255, 255, 255, 255, 255, 255, 255, 255, 255, 255, 255, 255, 255, 255, 255, 255, 255, 255, 255, 255, 255, 255, 255, 255, 255, 255]]\n",
            "[[0, 0, 1, 0], [0, 0, 1, 0]]\n",
            "[[255, 255, 255, 255, 255, 255, 255, 255, 255, 255, 255, 0, 0, 0, 0, 255, 0, 0, 0, 0, 0, 0, 0, 0, 0, 255, 0, 0, 0, 0, 255, 0, 0, 0, 0, 0, 0, 0, 0, 0, 255, 0, 0, 0, 0, 255, 0, 0, 0, 0, 0, 0, 0, 0, 0, 255, 0, 0, 0, 0, 255, 0, 0, 0, 0, 0, 0, 0, 0, 0, 255, 0, 0, 0, 0, 255, 0, 0, 0, 0, 0, 0, 0, 0, 0, 255, 0, 0, 0, 0, 255, 0, 0, 0, 0, 0, 0, 0, 0, 0, 255, 0, 0, 0, 0, 255, 0, 0, 0, 0, 0, 0, 0, 0, 0, 255, 0, 0, 0, 0, 255, 0, 0, 0, 0, 0, 0, 0, 0, 0, 255, 0, 0, 0, 0, 255, 0, 0, 0, 0, 0, 0, 0, 0, 0, 255, 0, 0, 0, 0, 255, 0, 0, 0, 0, 0, 0, 0, 0, 0, 255, 0, 0, 0, 0, 255, 0, 0, 0, 0, 0, 0, 0, 0, 0, 255, 0, 0, 0, 0, 255, 0, 0, 0, 0, 0, 0, 0, 0, 0, 255, 0, 0, 0, 0, 255, 0, 0, 0, 0, 0, 0, 0, 0, 0, 255, 0, 0, 0, 0, 255, 255, 255, 255, 255, 255, 255, 255, 255, 255, 255, 0, 0, 0, 0], [255, 250, 255, 250, 255, 251, 255, 247, 255, 246, 255, 255, 255, 250, 254, 250, 255, 255, 251, 249, 247, 255, 255, 255, 255, 255, 246, 242, 255, 255, 255, 255, 246, 252, 255, 255, 251, 245, 245, 247, 255, 255, 253, 251, 236, 255, 255, 255, 255, 253, 249, 251, 255, 255, 255, 255, 249, 253, 255, 255, 255, 248, 254, 255, 247, 209, 175, 148, 144, 185, 220, 255, 255, 241, 255, 254, 254, 255, 252, 196, 197, 231, 249, 255, 215, 168, 237, 255, 249, 255, 254, 255, 250, 250, 174, 232, 255, 255, 255, 254, 215, 166, 248, 255, 255, 250, 255, 251, 255, 149, 245, 255, 248, 250, 255, 255, 117, 255, 255, 250, 255, 255, 255, 255, 191, 183, 255, 251, 255, 250, 255, 128, 255, 255, 255, 248, 255, 252, 254, 243, 209, 215, 255, 255, 248, 247, 142, 250, 253, 255, 255, 255, 255, 242, 251, 209, 156, 217, 255, 248, 232, 180, 247, 253, 255, 253, 242, 255, 255, 255, 255, 244, 255, 254, 251, 233, 231, 255, 255, 254, 255, 251, 255, 255, 244, 255, 255, 244, 252, 255, 242, 255, 255, 255, 253, 252, 255, 251, 255, 255, 252, 255, 255, 254, 255, 249, 255, 253, 253, 252, 253, 255, 250, 255, 255, 246, 249, 255, 255, 255, 255, 253, 253, 255, 253]]\n",
            "[[1, 0, 0, 0], [0, 0, 0, 1]]\n",
            "3102\n"
          ],
          "name": "stdout"
        }
      ]
    },
    {
      "cell_type": "markdown",
      "metadata": {
        "id": "F2bD4nyVL1hz"
      },
      "source": [
        "...................................................."
      ]
    },
    {
      "cell_type": "code",
      "metadata": {
        "colab": {
          "base_uri": "https://localhost:8080/"
        },
        "id": "f8l_Tvu5tXQd",
        "outputId": "8eabea52-a3f0-4a3f-adc0-c5493eb07ffe"
      },
      "source": [
        "\n",
        "\n",
        "\n",
        "r = tf.keras.layers.Dense(4,activation='softmax',use_bias=False)#for this trial, we're using just 2 outputs.. line and ra\n",
        "model = Sequential()\n",
        "model.add(Dense(100, input_dim=225, activation='relu',use_bias=False))\n",
        "#model.add(Dense(65,activation='relu',use_bias=False))\n",
        "model.add(Dense(40,activation='relu',use_bias=False))\n",
        "model.add(Dense(10,activation='relu',use_bias=False))\n",
        "#model.add(Dense(10,activation='relu',use_bias=False))\n",
        "#model.add(Dense(10,activation='relu',use_bias=False))\n",
        "model.add(r)\n",
        "model.summary()"
      ],
      "execution_count": null,
      "outputs": [
        {
          "output_type": "stream",
          "text": [
            "Model: \"sequential\"\n",
            "_________________________________________________________________\n",
            "Layer (type)                 Output Shape              Param #   \n",
            "=================================================================\n",
            "dense_1 (Dense)              (None, 100)               22500     \n",
            "_________________________________________________________________\n",
            "dense_2 (Dense)              (None, 40)                4000      \n",
            "_________________________________________________________________\n",
            "dense_3 (Dense)              (None, 10)                400       \n",
            "_________________________________________________________________\n",
            "dense (Dense)                (None, 4)                 40        \n",
            "=================================================================\n",
            "Total params: 26,940\n",
            "Trainable params: 26,940\n",
            "Non-trainable params: 0\n",
            "_________________________________________________________________\n"
          ],
          "name": "stdout"
        }
      ]
    },
    {
      "cell_type": "code",
      "metadata": {
        "id": "e4CzEMYC7JFe"
      },
      "source": [
        "#https://keras.io/api/optimizers/"
      ],
      "execution_count": null,
      "outputs": []
    },
    {
      "cell_type": "code",
      "metadata": {
        "id": "ytCHnLozbHR9"
      },
      "source": [
        ""
      ],
      "execution_count": null,
      "outputs": []
    },
    {
      "cell_type": "code",
      "metadata": {
        "id": "ihtGlSaD5hkT"
      },
      "source": [
        "#compile(\n",
        "#    optimizer='rmsprop', loss=None, metrics=None, loss_weights=None,\n",
        "#    weighted_metrics=None, run_eagerly=None, **kwargs\n",
        "#)\n",
        "opt = tf.keras.optimizers.Adam(learning_rate=0.0001)\n",
        "model.compile(loss='categorical_crossentropy',optimizer=opt,metrics = ['accuracy'])"
      ],
      "execution_count": null,
      "outputs": []
    },
    {
      "cell_type": "markdown",
      "metadata": {
        "id": "vZOmZL-zRBgt"
      },
      "source": [
        "#Training the NN"
      ]
    },
    {
      "cell_type": "code",
      "metadata": {
        "id": "QRb4qmgzRA-A",
        "colab": {
          "base_uri": "https://localhost:8080/"
        },
        "outputId": "d0361a68-3c3b-494c-bb75-6ec6eb5b36c1"
      },
      "source": [
        "#model  #steps per epoch....no. of batches\n",
        "model.fit(x_train, y_train, epochs=100, batch_size=20, validation_data=(x_test,y_test))"
      ],
      "execution_count": null,
      "outputs": [
        {
          "output_type": "stream",
          "text": [
            "Epoch 1/100\n",
            "156/156 [==============================] - 2s 11ms/step - loss: 29.9358 - accuracy: 0.2460 - val_loss: 6.4255 - val_accuracy: 0.3956\n",
            "Epoch 2/100\n",
            "156/156 [==============================] - 0s 2ms/step - loss: 5.1451 - accuracy: 0.4236 - val_loss: 2.9955 - val_accuracy: 0.4836\n",
            "Epoch 3/100\n",
            "156/156 [==============================] - 0s 2ms/step - loss: 2.6201 - accuracy: 0.4882 - val_loss: 1.9742 - val_accuracy: 0.5193\n",
            "Epoch 4/100\n",
            "156/156 [==============================] - 0s 2ms/step - loss: 1.6653 - accuracy: 0.5287 - val_loss: 1.5135 - val_accuracy: 0.5377\n",
            "Epoch 5/100\n",
            "156/156 [==============================] - 0s 2ms/step - loss: 1.2151 - accuracy: 0.5415 - val_loss: 1.2622 - val_accuracy: 0.5484\n",
            "Epoch 6/100\n",
            "156/156 [==============================] - 0s 2ms/step - loss: 0.9564 - accuracy: 0.5705 - val_loss: 1.1034 - val_accuracy: 0.5600\n",
            "Epoch 7/100\n",
            "156/156 [==============================] - 0s 2ms/step - loss: 0.8370 - accuracy: 0.5854 - val_loss: 1.0176 - val_accuracy: 0.5319\n",
            "Epoch 8/100\n",
            "156/156 [==============================] - 0s 2ms/step - loss: 0.7386 - accuracy: 0.5856 - val_loss: 0.9626 - val_accuracy: 0.5745\n",
            "Epoch 9/100\n",
            "156/156 [==============================] - 0s 2ms/step - loss: 0.6756 - accuracy: 0.6191 - val_loss: 0.9244 - val_accuracy: 0.5793\n",
            "Epoch 10/100\n",
            "156/156 [==============================] - 0s 2ms/step - loss: 0.6181 - accuracy: 0.6275 - val_loss: 0.9065 - val_accuracy: 0.5832\n",
            "Epoch 11/100\n",
            "156/156 [==============================] - 0s 2ms/step - loss: 0.5941 - accuracy: 0.6464 - val_loss: 0.8748 - val_accuracy: 0.5899\n",
            "Epoch 12/100\n",
            "156/156 [==============================] - 0s 2ms/step - loss: 0.6105 - accuracy: 0.6194 - val_loss: 0.8483 - val_accuracy: 0.6025\n",
            "Epoch 13/100\n",
            "156/156 [==============================] - 0s 2ms/step - loss: 0.5784 - accuracy: 0.6314 - val_loss: 0.8354 - val_accuracy: 0.5774\n",
            "Epoch 14/100\n",
            "156/156 [==============================] - 0s 2ms/step - loss: 0.5766 - accuracy: 0.6412 - val_loss: 0.8068 - val_accuracy: 0.5919\n",
            "Epoch 15/100\n",
            "156/156 [==============================] - 0s 2ms/step - loss: 0.5445 - accuracy: 0.6564 - val_loss: 0.7927 - val_accuracy: 0.6306\n",
            "Epoch 16/100\n",
            "156/156 [==============================] - 0s 2ms/step - loss: 0.5230 - accuracy: 0.6555 - val_loss: 0.7916 - val_accuracy: 0.6015\n",
            "Epoch 17/100\n",
            "156/156 [==============================] - 0s 2ms/step - loss: 0.5175 - accuracy: 0.6819 - val_loss: 0.7769 - val_accuracy: 0.6441\n",
            "Epoch 18/100\n",
            "156/156 [==============================] - 0s 2ms/step - loss: 0.4885 - accuracy: 0.6838 - val_loss: 0.7775 - val_accuracy: 0.6112\n",
            "Epoch 19/100\n",
            "156/156 [==============================] - 0s 2ms/step - loss: 0.4916 - accuracy: 0.6873 - val_loss: 0.7679 - val_accuracy: 0.6499\n",
            "Epoch 20/100\n",
            "156/156 [==============================] - 0s 2ms/step - loss: 0.4562 - accuracy: 0.7012 - val_loss: 0.7592 - val_accuracy: 0.6615\n",
            "Epoch 21/100\n",
            "156/156 [==============================] - 0s 2ms/step - loss: 0.4631 - accuracy: 0.7046 - val_loss: 0.7142 - val_accuracy: 0.6267\n",
            "Epoch 22/100\n",
            "156/156 [==============================] - 0s 2ms/step - loss: 0.4370 - accuracy: 0.7110 - val_loss: 0.6974 - val_accuracy: 0.6741\n",
            "Epoch 23/100\n",
            "156/156 [==============================] - 0s 2ms/step - loss: 0.4498 - accuracy: 0.6913 - val_loss: 0.6969 - val_accuracy: 0.6789\n",
            "Epoch 24/100\n",
            "156/156 [==============================] - 0s 2ms/step - loss: 0.4183 - accuracy: 0.7226 - val_loss: 0.6872 - val_accuracy: 0.6905\n",
            "Epoch 25/100\n",
            "156/156 [==============================] - 0s 2ms/step - loss: 0.4129 - accuracy: 0.7219 - val_loss: 0.6753 - val_accuracy: 0.6557\n",
            "Epoch 26/100\n",
            "156/156 [==============================] - 0s 2ms/step - loss: 0.3966 - accuracy: 0.7429 - val_loss: 0.6710 - val_accuracy: 0.6992\n",
            "Epoch 27/100\n",
            "156/156 [==============================] - 0s 2ms/step - loss: 0.3806 - accuracy: 0.7393 - val_loss: 0.6474 - val_accuracy: 0.7099\n",
            "Epoch 28/100\n",
            "156/156 [==============================] - 0s 2ms/step - loss: 0.3734 - accuracy: 0.7384 - val_loss: 0.6374 - val_accuracy: 0.6634\n",
            "Epoch 29/100\n",
            "156/156 [==============================] - 0s 2ms/step - loss: 0.3589 - accuracy: 0.7435 - val_loss: 0.6098 - val_accuracy: 0.7166\n",
            "Epoch 30/100\n",
            "156/156 [==============================] - 0s 2ms/step - loss: 0.3659 - accuracy: 0.7580 - val_loss: 0.5999 - val_accuracy: 0.7195\n",
            "Epoch 31/100\n",
            "156/156 [==============================] - 0s 2ms/step - loss: 0.3520 - accuracy: 0.7552 - val_loss: 0.6002 - val_accuracy: 0.6731\n",
            "Epoch 32/100\n",
            "156/156 [==============================] - 0s 2ms/step - loss: 0.3616 - accuracy: 0.7497 - val_loss: 0.5629 - val_accuracy: 0.7263\n",
            "Epoch 33/100\n",
            "156/156 [==============================] - 0s 2ms/step - loss: 0.3534 - accuracy: 0.7556 - val_loss: 0.5724 - val_accuracy: 0.6770\n",
            "Epoch 34/100\n",
            "156/156 [==============================] - 0s 2ms/step - loss: 0.3615 - accuracy: 0.7413 - val_loss: 0.5816 - val_accuracy: 0.6779\n",
            "Epoch 35/100\n",
            "156/156 [==============================] - 0s 2ms/step - loss: 0.3507 - accuracy: 0.7492 - val_loss: 0.5742 - val_accuracy: 0.7253\n",
            "Epoch 36/100\n",
            "156/156 [==============================] - 0s 2ms/step - loss: 0.3471 - accuracy: 0.7578 - val_loss: 0.5673 - val_accuracy: 0.7263\n",
            "Epoch 37/100\n",
            "156/156 [==============================] - 0s 2ms/step - loss: 0.3528 - accuracy: 0.7537 - val_loss: 0.5649 - val_accuracy: 0.7273\n",
            "Epoch 38/100\n",
            "156/156 [==============================] - 0s 2ms/step - loss: 0.3449 - accuracy: 0.7574 - val_loss: 0.5561 - val_accuracy: 0.7302\n",
            "Epoch 39/100\n",
            "156/156 [==============================] - 0s 2ms/step - loss: 0.3326 - accuracy: 0.7700 - val_loss: 0.5576 - val_accuracy: 0.7292\n",
            "Epoch 40/100\n",
            "156/156 [==============================] - 0s 2ms/step - loss: 0.3342 - accuracy: 0.7569 - val_loss: 0.5572 - val_accuracy: 0.7292\n",
            "Epoch 41/100\n",
            "156/156 [==============================] - 0s 2ms/step - loss: 0.3438 - accuracy: 0.7470 - val_loss: 0.5494 - val_accuracy: 0.7282\n",
            "Epoch 42/100\n",
            "156/156 [==============================] - 0s 2ms/step - loss: 0.3335 - accuracy: 0.7549 - val_loss: 0.5448 - val_accuracy: 0.7302\n",
            "Epoch 43/100\n",
            "156/156 [==============================] - 0s 2ms/step - loss: 0.3578 - accuracy: 0.7482 - val_loss: 0.5363 - val_accuracy: 0.7331\n",
            "Epoch 44/100\n",
            "156/156 [==============================] - 0s 2ms/step - loss: 0.3409 - accuracy: 0.7505 - val_loss: 0.5364 - val_accuracy: 0.7321\n",
            "Epoch 45/100\n",
            "156/156 [==============================] - 0s 2ms/step - loss: 0.3425 - accuracy: 0.7549 - val_loss: 0.5381 - val_accuracy: 0.7331\n",
            "Epoch 46/100\n",
            "156/156 [==============================] - 0s 2ms/step - loss: 0.3284 - accuracy: 0.7680 - val_loss: 0.5318 - val_accuracy: 0.7340\n",
            "Epoch 47/100\n",
            "156/156 [==============================] - 0s 2ms/step - loss: 0.3399 - accuracy: 0.7514 - val_loss: 0.5114 - val_accuracy: 0.7360\n",
            "Epoch 48/100\n",
            "156/156 [==============================] - 0s 2ms/step - loss: 0.3293 - accuracy: 0.7585 - val_loss: 0.4987 - val_accuracy: 0.7379\n",
            "Epoch 49/100\n",
            "156/156 [==============================] - 0s 2ms/step - loss: 0.3317 - accuracy: 0.7569 - val_loss: 0.5000 - val_accuracy: 0.7379\n",
            "Epoch 50/100\n",
            "156/156 [==============================] - 0s 2ms/step - loss: 0.3312 - accuracy: 0.7638 - val_loss: 0.5004 - val_accuracy: 0.7379\n",
            "Epoch 51/100\n",
            "156/156 [==============================] - 0s 2ms/step - loss: 0.3403 - accuracy: 0.7496 - val_loss: 0.5040 - val_accuracy: 0.7379\n",
            "Epoch 52/100\n",
            "156/156 [==============================] - 0s 2ms/step - loss: 0.3344 - accuracy: 0.7471 - val_loss: 0.5048 - val_accuracy: 0.7369\n",
            "Epoch 53/100\n",
            "156/156 [==============================] - 0s 2ms/step - loss: 0.3484 - accuracy: 0.7444 - val_loss: 0.5010 - val_accuracy: 0.7389\n",
            "Epoch 54/100\n",
            "156/156 [==============================] - 0s 2ms/step - loss: 0.3171 - accuracy: 0.7709 - val_loss: 0.5114 - val_accuracy: 0.7379\n",
            "Epoch 55/100\n",
            "156/156 [==============================] - 0s 2ms/step - loss: 0.3314 - accuracy: 0.7560 - val_loss: 0.5580 - val_accuracy: 0.7360\n",
            "Epoch 56/100\n",
            "156/156 [==============================] - 0s 2ms/step - loss: 0.3363 - accuracy: 0.7663 - val_loss: 0.5044 - val_accuracy: 0.7340\n",
            "Epoch 57/100\n",
            "156/156 [==============================] - 0s 2ms/step - loss: 0.3489 - accuracy: 0.7526 - val_loss: 0.5220 - val_accuracy: 0.7369\n",
            "Epoch 58/100\n",
            "156/156 [==============================] - 0s 2ms/step - loss: 0.3296 - accuracy: 0.7619 - val_loss: 0.5139 - val_accuracy: 0.7389\n",
            "Epoch 59/100\n",
            "156/156 [==============================] - 0s 2ms/step - loss: 0.3285 - accuracy: 0.7570 - val_loss: 0.5115 - val_accuracy: 0.7389\n",
            "Epoch 60/100\n",
            "156/156 [==============================] - 0s 2ms/step - loss: 0.3103 - accuracy: 0.7722 - val_loss: 0.5187 - val_accuracy: 0.7369\n",
            "Epoch 61/100\n",
            "156/156 [==============================] - 0s 2ms/step - loss: 0.3258 - accuracy: 0.7551 - val_loss: 0.5236 - val_accuracy: 0.7369\n",
            "Epoch 62/100\n",
            "156/156 [==============================] - 0s 2ms/step - loss: 0.3121 - accuracy: 0.7675 - val_loss: 0.5244 - val_accuracy: 0.7369\n",
            "Epoch 63/100\n",
            "156/156 [==============================] - 0s 1ms/step - loss: 0.3216 - accuracy: 0.7635 - val_loss: 0.5174 - val_accuracy: 0.7379\n",
            "Epoch 64/100\n",
            "156/156 [==============================] - 0s 2ms/step - loss: 0.3289 - accuracy: 0.7554 - val_loss: 0.5200 - val_accuracy: 0.7360\n",
            "Epoch 65/100\n",
            "156/156 [==============================] - 0s 2ms/step - loss: 0.3112 - accuracy: 0.7660 - val_loss: 0.5491 - val_accuracy: 0.7379\n",
            "Epoch 66/100\n",
            "156/156 [==============================] - 0s 2ms/step - loss: 0.3411 - accuracy: 0.7418 - val_loss: 0.5311 - val_accuracy: 0.7360\n",
            "Epoch 67/100\n",
            "156/156 [==============================] - 0s 2ms/step - loss: 0.3132 - accuracy: 0.7624 - val_loss: 0.5400 - val_accuracy: 0.7360\n",
            "Epoch 68/100\n",
            "156/156 [==============================] - 0s 2ms/step - loss: 0.3195 - accuracy: 0.7616 - val_loss: 0.5350 - val_accuracy: 0.7360\n",
            "Epoch 69/100\n",
            "156/156 [==============================] - 0s 2ms/step - loss: 0.3257 - accuracy: 0.7542 - val_loss: 0.5368 - val_accuracy: 0.7369\n",
            "Epoch 70/100\n",
            "156/156 [==============================] - 0s 2ms/step - loss: 0.3180 - accuracy: 0.7651 - val_loss: 0.5499 - val_accuracy: 0.7369\n",
            "Epoch 71/100\n",
            "156/156 [==============================] - 0s 2ms/step - loss: 0.3373 - accuracy: 0.7491 - val_loss: 0.5354 - val_accuracy: 0.7360\n",
            "Epoch 72/100\n",
            "156/156 [==============================] - 0s 2ms/step - loss: 0.3269 - accuracy: 0.7562 - val_loss: 0.5496 - val_accuracy: 0.7369\n",
            "Epoch 73/100\n",
            "156/156 [==============================] - 0s 2ms/step - loss: 0.3288 - accuracy: 0.7629 - val_loss: 0.5405 - val_accuracy: 0.7340\n",
            "Epoch 74/100\n",
            "156/156 [==============================] - 0s 2ms/step - loss: 0.3122 - accuracy: 0.7630 - val_loss: 0.5532 - val_accuracy: 0.7350\n",
            "Epoch 75/100\n",
            "156/156 [==============================] - 0s 2ms/step - loss: 0.3315 - accuracy: 0.7534 - val_loss: 0.5368 - val_accuracy: 0.7369\n",
            "Epoch 76/100\n",
            "156/156 [==============================] - 0s 2ms/step - loss: 0.3227 - accuracy: 0.7605 - val_loss: 0.5414 - val_accuracy: 0.7379\n",
            "Epoch 77/100\n",
            "156/156 [==============================] - 0s 2ms/step - loss: 0.3118 - accuracy: 0.7650 - val_loss: 0.5108 - val_accuracy: 0.7379\n",
            "Epoch 78/100\n",
            "156/156 [==============================] - 0s 2ms/step - loss: 0.3314 - accuracy: 0.7467 - val_loss: 0.5300 - val_accuracy: 0.7350\n",
            "Epoch 79/100\n",
            "156/156 [==============================] - 0s 2ms/step - loss: 0.3223 - accuracy: 0.7542 - val_loss: 0.5177 - val_accuracy: 0.7398\n",
            "Epoch 80/100\n",
            "156/156 [==============================] - 0s 2ms/step - loss: 0.3172 - accuracy: 0.7629 - val_loss: 0.5152 - val_accuracy: 0.7408\n",
            "Epoch 81/100\n",
            "156/156 [==============================] - 0s 2ms/step - loss: 0.3131 - accuracy: 0.7619 - val_loss: 0.5525 - val_accuracy: 0.7389\n",
            "Epoch 82/100\n",
            "156/156 [==============================] - 0s 2ms/step - loss: 0.3293 - accuracy: 0.7603 - val_loss: 0.5173 - val_accuracy: 0.7408\n",
            "Epoch 83/100\n",
            "156/156 [==============================] - 0s 2ms/step - loss: 0.3086 - accuracy: 0.7720 - val_loss: 0.5239 - val_accuracy: 0.7398\n",
            "Epoch 84/100\n",
            "156/156 [==============================] - 0s 2ms/step - loss: 0.3032 - accuracy: 0.7698 - val_loss: 0.5378 - val_accuracy: 0.7389\n",
            "Epoch 85/100\n",
            "156/156 [==============================] - 0s 2ms/step - loss: 0.3222 - accuracy: 0.7531 - val_loss: 0.5270 - val_accuracy: 0.7398\n",
            "Epoch 86/100\n",
            "156/156 [==============================] - 0s 2ms/step - loss: 0.3376 - accuracy: 0.7456 - val_loss: 0.5312 - val_accuracy: 0.7379\n",
            "Epoch 87/100\n",
            "156/156 [==============================] - 0s 2ms/step - loss: 0.3303 - accuracy: 0.7501 - val_loss: 0.5555 - val_accuracy: 0.7408\n",
            "Epoch 88/100\n",
            "156/156 [==============================] - 0s 2ms/step - loss: 0.3078 - accuracy: 0.7737 - val_loss: 0.5413 - val_accuracy: 0.7389\n",
            "Epoch 89/100\n",
            "156/156 [==============================] - 0s 2ms/step - loss: 0.3123 - accuracy: 0.7620 - val_loss: 0.5322 - val_accuracy: 0.7389\n",
            "Epoch 90/100\n",
            "156/156 [==============================] - 0s 2ms/step - loss: 0.3072 - accuracy: 0.7670 - val_loss: 0.5577 - val_accuracy: 0.7360\n",
            "Epoch 91/100\n",
            "156/156 [==============================] - 0s 2ms/step - loss: 0.3151 - accuracy: 0.7559 - val_loss: 0.5730 - val_accuracy: 0.7331\n",
            "Epoch 92/100\n",
            "156/156 [==============================] - 0s 2ms/step - loss: 0.3055 - accuracy: 0.7701 - val_loss: 0.5511 - val_accuracy: 0.7350\n",
            "Epoch 93/100\n",
            "156/156 [==============================] - 0s 2ms/step - loss: 0.3095 - accuracy: 0.7633 - val_loss: 0.5483 - val_accuracy: 0.7360\n",
            "Epoch 94/100\n",
            "156/156 [==============================] - 0s 2ms/step - loss: 0.3288 - accuracy: 0.7625 - val_loss: 0.5512 - val_accuracy: 0.7389\n",
            "Epoch 95/100\n",
            "156/156 [==============================] - 0s 2ms/step - loss: 0.3190 - accuracy: 0.7565 - val_loss: 0.5268 - val_accuracy: 0.7418\n",
            "Epoch 96/100\n",
            "156/156 [==============================] - 0s 2ms/step - loss: 0.3175 - accuracy: 0.7571 - val_loss: 0.4768 - val_accuracy: 0.7456\n",
            "Epoch 97/100\n",
            "156/156 [==============================] - 0s 2ms/step - loss: 0.3156 - accuracy: 0.7600 - val_loss: 0.4736 - val_accuracy: 0.7437\n",
            "Epoch 98/100\n",
            "156/156 [==============================] - 0s 2ms/step - loss: 0.3128 - accuracy: 0.7712 - val_loss: 0.4772 - val_accuracy: 0.7437\n",
            "Epoch 99/100\n",
            "156/156 [==============================] - 0s 2ms/step - loss: 0.3091 - accuracy: 0.7619 - val_loss: 0.4783 - val_accuracy: 0.7447\n",
            "Epoch 100/100\n",
            "156/156 [==============================] - 0s 2ms/step - loss: 0.3022 - accuracy: 0.7733 - val_loss: 0.4758 - val_accuracy: 0.7447\n"
          ],
          "name": "stdout"
        },
        {
          "output_type": "execute_result",
          "data": {
            "text/plain": [
              "<tensorflow.python.keras.callbacks.History at 0x7f05fa243320>"
            ]
          },
          "metadata": {
            "tags": []
          },
          "execution_count": 21
        }
      ]
    },
    {
      "cell_type": "code",
      "metadata": {
        "colab": {
          "base_uri": "https://localhost:8080/"
        },
        "id": "YUTau5SpwHe2",
        "outputId": "200d4529-7bcb-41d3-dc9b-38b2ce34371e"
      },
      "source": [
        "p = x_test[1000]\r\n",
        "p1 = y_test[1000]\r\n",
        "print(p)\r\n",
        "print(p1)\r\n",
        "sw = model.predict([p])\r\n",
        "print(sw)\r\n"
      ],
      "execution_count": null,
      "outputs": [
        {
          "output_type": "stream",
          "text": [
            "[0, 13, 0, 0, 5, 0, 0, 9, 2, 0, 0, 6, 0, 1, 2, 0, 6, 4, 0, 2, 7, 6, 0, 0, 0, 0, 11, 0, 0, 0, 1, 0, 0, 17, 0, 1, 46, 94, 43, 27, 0, 0, 2, 3, 0, 0, 13, 0, 0, 11, 108, 76, 5, 71, 64, 3, 0, 0, 4, 1, 6, 0, 0, 23, 76, 43, 0, 0, 22, 69, 28, 5, 0, 0, 1, 2, 0, 3, 0, 101, 1, 0, 10, 0, 68, 29, 2, 0, 1, 3, 0, 6, 15, 0, 109, 0, 7, 0, 2, 75, 20, 0, 2, 3, 3, 4, 3, 0, 11, 98, 0, 5, 1, 0, 76, 25, 2, 4, 0, 0, 0, 9, 0, 14, 70, 40, 0, 5, 11, 68, 28, 0, 1, 0, 6, 0, 12, 0, 0, 39, 72, 39, 0, 22, 56, 20, 0, 5, 0, 0, 4, 0, 0, 0, 6, 36, 35, 0, 13, 22, 0, 0, 5, 0, 2, 4, 0, 2, 12, 0, 0, 0, 3, 0, 0, 0, 0, 0, 0, 7, 0, 0, 0, 0, 2, 1, 0, 0, 1, 0, 0, 2, 0, 0, 7, 0, 6, 0, 0, 6, 7, 0, 3, 0, 2, 6, 1, 0, 0, 3, 1, 1, 0, 2, 1, 0, 0, 8, 0, 0, 1, 0, 0, 1, 0]\n",
            "[0, 0, 0, 1]\n",
            "[[2.7350669e-17 3.7253218e-11 3.7844416e-15 1.0000000e+00]]\n"
          ],
          "name": "stdout"
        }
      ]
    },
    {
      "cell_type": "code",
      "metadata": {
        "id": "pqwaVvvmQa_H"
      },
      "source": [
        ""
      ],
      "execution_count": null,
      "outputs": []
    },
    {
      "cell_type": "markdown",
      "metadata": {
        "id": "tZGOFW37Qnn5"
      },
      "source": [
        "Get weights and biases"
      ]
    },
    {
      "cell_type": "code",
      "metadata": {
        "colab": {
          "base_uri": "https://localhost:8080/"
        },
        "id": "0EfrvakoQpRt",
        "outputId": "9a8f767d-38c9-4421-af80-40fca88d6902"
      },
      "source": [
        "weights=[]\r\n",
        "biases=[]\r\n",
        "for layer in model.layers:\r\n",
        "    weight = layer.get_weights()[0]\r\n",
        "    #bias = layer.get_weights()[1] \r\n",
        "    weights.append(weight)\r\n",
        "    #biases.append(bias)\r\n",
        "\r\n",
        "\r\n",
        "\r\n",
        "\r\n",
        "print(weights)\r\n",
        "#print(biases)\r\n",
        "#print(biases[0])\r\n",
        "\r\n"
      ],
      "execution_count": null,
      "outputs": [
        {
          "output_type": "stream",
          "text": [
            "[array([[ 3.6127035e-02,  5.6199886e-02,  6.6610478e-02, ...,\n",
            "         4.4020712e-02,  9.6576318e-02,  4.5049138e-02],\n",
            "       [-9.1441702e-03,  6.9404088e-02, -5.7055060e-02, ...,\n",
            "        -3.5717983e-02,  7.3694386e-02, -8.9444183e-02],\n",
            "       [ 1.3132227e-02, -4.6205945e-02,  5.9141043e-05, ...,\n",
            "        -1.1069778e-01, -5.8497082e-02,  7.6235548e-02],\n",
            "       ...,\n",
            "       [ 7.4387319e-02, -2.3392579e-02,  1.1829632e-01, ...,\n",
            "         7.7394904e-03,  1.2969336e-01, -9.1654070e-02],\n",
            "       [-7.9071850e-02,  4.4572237e-03, -1.6070472e-02, ...,\n",
            "        -7.7395856e-02,  1.2861602e-01, -9.2867702e-02],\n",
            "       [ 4.5015711e-02,  1.0438054e-02,  7.8057490e-02, ...,\n",
            "        -2.5746576e-02, -3.4494568e-02,  5.3635169e-02]], dtype=float32), array([[ 0.19373448, -0.18705568, -0.10012381, ..., -0.17807184,\n",
            "         0.1522985 , -0.00381974],\n",
            "       [-0.17776063,  0.17617904, -0.1218728 , ..., -0.16635543,\n",
            "         0.13369158, -0.02622381],\n",
            "       [ 0.16712669, -0.09214905, -0.140472  , ..., -0.08047012,\n",
            "         0.05172227,  0.05716771],\n",
            "       ...,\n",
            "       [-0.12545699, -0.06578877,  0.02874277, ...,  0.01816715,\n",
            "         0.14414546, -0.00629166],\n",
            "       [-0.16809176,  0.14466228,  0.0349302 , ...,  0.15083972,\n",
            "        -0.05708116, -0.12533599],\n",
            "       [ 0.06540401,  0.12384848,  0.10253895, ..., -0.07235131,\n",
            "        -0.03443713, -0.1770072 ]], dtype=float32), array([[ 0.21116465,  0.30787298,  0.27003065,  0.28585094,  0.06590539,\n",
            "         0.27566883,  0.18941326, -0.19060215, -0.27625066,  0.21660596],\n",
            "       [-0.32280955, -0.25463182,  0.12375634, -0.00764156,  0.23110667,\n",
            "        -0.07966698, -0.23759256, -0.05095847, -0.1158056 , -0.12114921],\n",
            "       [-0.12361279,  0.04821441, -0.05899025,  0.3117806 , -0.03118692,\n",
            "        -0.26466817,  0.14001952, -0.04470758, -0.0465169 , -0.18107028],\n",
            "       [-0.11163534, -0.13672595, -0.02776859, -0.13728072, -0.34691787,\n",
            "         0.30748612,  0.32573777, -0.31595474,  0.2920651 , -0.20291445],\n",
            "       [ 0.3038924 , -0.07821461, -0.09107134, -0.27412376, -0.2279303 ,\n",
            "         0.18404494,  0.18760842,  0.16211556,  0.10767782,  0.17578596],\n",
            "       [ 0.2506049 ,  0.07131211,  0.3300558 , -0.04360977, -0.18028407,\n",
            "         0.13375442, -0.1333555 ,  0.12021674,  0.19042565,  0.24659298],\n",
            "       [ 0.09515351, -0.2938915 ,  0.25726435,  0.2708262 , -0.2014734 ,\n",
            "        -0.26405042,  0.2798898 ,  0.3578382 , -0.22377142,  0.24296494],\n",
            "       [-0.28932452,  0.04886993,  0.08897398, -0.271129  , -0.10468707,\n",
            "        -0.04140247, -0.0197724 ,  0.10475107, -0.1404253 ,  0.31412503],\n",
            "       [ 0.29175276, -0.33328915,  0.27509186, -0.2048454 ,  0.02920988,\n",
            "        -0.25641227, -0.09564762, -0.18784255, -0.06110917,  0.2963277 ],\n",
            "       [ 0.13756451,  0.08614023,  0.19119903,  0.25892434,  0.3560144 ,\n",
            "        -0.3463261 , -0.21647507,  0.2580868 ,  0.24915472,  0.22316551],\n",
            "       [-0.21992202, -0.12129895,  0.25594896, -0.10466667, -0.23189421,\n",
            "         0.07902194,  0.2594597 , -0.1744761 , -0.32522058, -0.28258607],\n",
            "       [ 0.212394  , -0.17580217, -0.31075144, -0.35633034,  0.27029428,\n",
            "         0.29429573,  0.137593  , -0.27146327,  0.18366522, -0.14898382],\n",
            "       [-0.24164991,  0.27488524, -0.1245764 , -0.34462214, -0.18717074,\n",
            "        -0.12146594, -0.2784197 , -0.10838071, -0.3072771 ,  0.00326481],\n",
            "       [ 0.03019992, -0.26813462,  0.1537971 , -0.1401996 , -0.15629524,\n",
            "         0.04549372,  0.02015586,  0.02491293,  0.17449778, -0.28517824],\n",
            "       [ 0.00583811,  0.03439286, -0.34453145, -0.18490112,  0.06358764,\n",
            "        -0.06353633,  0.11655514,  0.13061856,  0.2117232 ,  0.14807972],\n",
            "       [-0.3393867 , -0.18983103,  0.12268656, -0.11228685, -0.20312528,\n",
            "         0.14243679, -0.068849  ,  0.00343854, -0.10597372, -0.11898411],\n",
            "       [ 0.10801902,  0.10227319, -0.28433853,  0.02327054, -0.14354219,\n",
            "         0.2629375 , -0.29733935,  0.07369439,  0.25898814,  0.28711498],\n",
            "       [-0.18860886,  0.09918917,  0.1518659 , -0.17283027,  0.06176902,\n",
            "        -0.1505945 , -0.29356974,  0.06828523,  0.08326739, -0.04736019],\n",
            "       [-0.17573947, -0.14526719, -0.09442925,  0.05147935,  0.06704299,\n",
            "         0.30295497,  0.29735535, -0.15767403, -0.00113171, -0.1287949 ],\n",
            "       [ 0.32192603, -0.2509623 , -0.23833123, -0.24643244,  0.21600491,\n",
            "         0.07107806,  0.23241745, -0.00310598, -0.2930774 ,  0.11320471],\n",
            "       [ 0.16063516,  0.16115905, -0.09134273,  0.17563288, -0.2111936 ,\n",
            "         0.16462383,  0.25819585, -0.25180286,  0.29060495,  0.33631653],\n",
            "       [-0.22241765,  0.17690538,  0.31454137,  0.34483847, -0.32614562,\n",
            "         0.00869838,  0.16584714, -0.07322013,  0.31022507, -0.00653903],\n",
            "       [-0.03250045,  0.23733367, -0.23563315,  0.33344772,  0.19923824,\n",
            "         0.19953808, -0.3007501 ,  0.0503955 , -0.1112124 ,  0.17101666],\n",
            "       [-0.19420311, -0.12951298,  0.14922673, -0.13518138,  0.11038736,\n",
            "         0.31453577, -0.33691153, -0.24152705,  0.03128159,  0.07715002],\n",
            "       [ 0.03680179,  0.05576556,  0.26191217,  0.11211035,  0.25512823,\n",
            "         0.00974636,  0.1592399 , -0.30168515,  0.10046233, -0.22278467],\n",
            "       [-0.21813306, -0.25508076,  0.328811  , -0.02746446, -0.3510577 ,\n",
            "         0.00828328, -0.01756808, -0.17411575,  0.11360714, -0.23023681],\n",
            "       [-0.13350351,  0.07548869, -0.33636397, -0.16697066,  0.2006785 ,\n",
            "        -0.30826455,  0.21481873, -0.18012725, -0.21674621,  0.07803918],\n",
            "       [ 0.31018364,  0.30402443,  0.09748954, -0.28672802,  0.3075694 ,\n",
            "        -0.0124072 , -0.34012792, -0.30012786, -0.06869143,  0.28372595],\n",
            "       [ 0.03254955, -0.28012055, -0.19816135,  0.17429994, -0.2343849 ,\n",
            "         0.28174418, -0.21510206, -0.26242647,  0.08129293,  0.2741878 ],\n",
            "       [ 0.14646626,  0.2983721 ,  0.02020775, -0.2590155 , -0.35298264,\n",
            "        -0.24379167,  0.19886373, -0.25025615,  0.06114744, -0.257276  ],\n",
            "       [-0.32354072,  0.21397854,  0.20134132,  0.13975982,  0.2433168 ,\n",
            "        -0.28329635, -0.19609296, -0.18751423,  0.12139094,  0.23733014],\n",
            "       [ 0.10624197,  0.08358295,  0.05123295,  0.30267406,  0.18225856,\n",
            "         0.2829122 ,  0.17276053,  0.17036414,  0.09058034,  0.29477218],\n",
            "       [ 0.2383737 ,  0.19666374,  0.1191508 , -0.30370805,  0.23017338,\n",
            "        -0.30565318,  0.05435432, -0.2295513 , -0.26472524, -0.33203518],\n",
            "       [-0.21525668, -0.23013155, -0.2221924 ,  0.1466146 , -0.30640885,\n",
            "         0.22291385, -0.00797151,  0.01337537,  0.06282652, -0.17483547],\n",
            "       [-0.26332644, -0.29826227, -0.08568326,  0.24248882, -0.24666058,\n",
            "        -0.30749908, -0.19824316,  0.31901428, -0.02982077,  0.08858848],\n",
            "       [ 0.14879337, -0.07112627,  0.21525031,  0.0767825 , -0.20730107,\n",
            "         0.03407288, -0.23798054, -0.25653553,  0.01635523, -0.12162089],\n",
            "       [ 0.00509165, -0.00198321,  0.13046564, -0.20573734, -0.13724007,\n",
            "         0.20656049, -0.35326475,  0.03094509,  0.16005813, -0.02285929],\n",
            "       [ 0.1736556 ,  0.27234924,  0.03433282,  0.09508369, -0.0782298 ,\n",
            "        -0.30764887, -0.19085771,  0.19153701,  0.30179313,  0.0889932 ],\n",
            "       [-0.03256595, -0.13605843, -0.17897186, -0.3144539 , -0.15749533,\n",
            "         0.01771916, -0.08353169, -0.04200045, -0.0994966 ,  0.3050675 ],\n",
            "       [-0.04115135, -0.04872839, -0.30511037,  0.20021623,  0.18494174,\n",
            "        -0.07489336, -0.26497933,  0.05630698, -0.17084995, -0.03208977]],\n",
            "      dtype=float32), array([[ 0.3130684 , -0.31482333,  0.5190587 ,  0.50861615],\n",
            "       [ 0.583701  , -0.4137216 , -0.53730875, -0.5813561 ],\n",
            "       [-0.4328108 ,  0.08071545, -0.6424218 , -0.05592895],\n",
            "       [-0.46882093, -0.02773501, -0.03188422, -0.31994727],\n",
            "       [-0.18845679, -0.38738325,  0.06723866,  0.05872674],\n",
            "       [ 0.36581096, -0.16300756,  0.22221489, -0.6185987 ],\n",
            "       [ 0.66625166,  0.47317198, -0.5597945 , -0.06768171],\n",
            "       [-0.05548055,  0.07833622, -0.07158983,  0.5452649 ],\n",
            "       [-0.5798047 , -0.03753164, -0.618356  , -0.36760736],\n",
            "       [-0.51823807, -0.20630921,  0.11989027, -0.6444608 ]],\n",
            "      dtype=float32)]\n"
          ],
          "name": "stdout"
        }
      ]
    },
    {
      "cell_type": "code",
      "metadata": {
        "colab": {
          "base_uri": "https://localhost:8080/"
        },
        "id": "mqYd_nGqm0BJ",
        "outputId": "3d9d2238-50a8-4725-c98f-d5a764ea1dd3"
      },
      "source": [
        "#model.save(fold+'models')\r\n",
        "\r\n",
        "#remove the above comment to overwrite the model in the file"
      ],
      "execution_count": null,
      "outputs": [
        {
          "output_type": "stream",
          "text": [
            "INFO:tensorflow:Assets written to: drive/My Drive/Colab Notebooks/smtdatatrials2/trials2/models/assets\n"
          ],
          "name": "stdout"
        }
      ]
    },
    {
      "cell_type": "markdown",
      "metadata": {
        "id": "09_6S8IhP-gy"
      },
      "source": [
        "#z3"
      ]
    },
    {
      "cell_type": "markdown",
      "metadata": {
        "id": "fuMj65Ho61x0"
      },
      "source": [
        "I think the following is wrong as of now. Editing\r\n"
      ]
    },
    {
      "cell_type": "code",
      "metadata": {
        "id": "wFQaPP1ygcFO"
      },
      "source": [
        ""
      ],
      "execution_count": null,
      "outputs": []
    },
    {
      "cell_type": "markdown",
      "metadata": {
        "id": "v3888rz7g59i"
      },
      "source": [
        "...........................................pt 2"
      ]
    },
    {
      "cell_type": "code",
      "metadata": {
        "id": "Nk0PzuPTg2ch"
      },
      "source": [
        ""
      ],
      "execution_count": null,
      "outputs": []
    },
    {
      "cell_type": "markdown",
      "metadata": {
        "id": "fbgba3Mug8j7"
      },
      "source": [
        "----------------------------prop and act are for the 1st picture... prop1 and act1 are for the 2nd picture------------ The two post conditions written check if the two are rectangles. If the network thinks something is a rectangle, will it also think the image, rotated by 90 degrees clockwise is a rectangle?--------------"
      ]
    },
    {
      "cell_type": "code",
      "metadata": {
        "colab": {
          "base_uri": "https://localhost:8080/",
          "height": 34
        },
        "id": "qbrA28gJg_C3",
        "outputId": "ea0f5dd0-1065-4e91-98e1-8fd2cdb68c44"
      },
      "source": [
        ""
      ],
      "execution_count": null,
      "outputs": [
        {
          "output_type": "execute_result",
          "data": {
            "text/html": [
              "<b>unknown</b>"
            ],
            "text/plain": [
              "unknown"
            ]
          },
          "metadata": {
            "tags": []
          },
          "execution_count": 151
        }
      ]
    },
    {
      "cell_type": "code",
      "metadata": {
        "id": "nYVc2gQ_OrsJ"
      },
      "source": [
        "#isrectangle-n\r\n",
        "\r\n"
      ],
      "execution_count": null,
      "outputs": []
    }
  ]
}