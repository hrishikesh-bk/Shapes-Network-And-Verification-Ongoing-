{
  "nbformat": 4,
  "nbformat_minor": 0,
  "metadata": {
    "colab": {
      "name": "smt_data_trials.ipynb",
      "provenance": [],
      "collapsed_sections": []
    },
    "kernelspec": {
      "name": "python3",
      "display_name": "Python 3"
    }
  },
  "cells": [
    {
      "cell_type": "code",
      "metadata": {
        "colab": {
          "base_uri": "https://localhost:8080/"
        },
        "id": "5WD9CuUe1H73",
        "outputId": "d1f1b4bb-5be6-4097-dcb5-696ba783dca4"
      },
      "source": [
        "pip install pillow"
      ],
      "execution_count": null,
      "outputs": [
        {
          "output_type": "stream",
          "text": [
            "Requirement already satisfied: pillow in /usr/local/lib/python3.6/dist-packages (7.0.0)\n"
          ],
          "name": "stdout"
        }
      ]
    },
    {
      "cell_type": "markdown",
      "metadata": {
        "id": "GWh66fEv1P_I"
      },
      "source": [
        "####Directory"
      ]
    },
    {
      "cell_type": "code",
      "metadata": {
        "id": "V3CfaxWS1T7l",
        "colab": {
          "base_uri": "https://localhost:8080/"
        },
        "outputId": "87e0300f-b3c0-4f7d-a1fa-6b3785d93d66"
      },
      "source": [
        "from google.colab import drive\n",
        "drive.mount('/content/drive',force_remount=True)\n",
        "fold = \"drive/My Drive/Colab Notebooks/smtdatatrials2/RA/\" #!!!!!!!!!!!!!!!!!!!!!!!!!!!!!!!!!!!!!!!!!!!!!!!!!!!!!!!!!!!!!!!!!!!!!!!!!!!!!!!!!!!!!!!!!!!\n",
        "import sys\n",
        "sys.path.insert(1, fold)"
      ],
      "execution_count": null,
      "outputs": [
        {
          "output_type": "stream",
          "text": [
            "Mounted at /content/drive\n"
          ],
          "name": "stdout"
        }
      ]
    },
    {
      "cell_type": "markdown",
      "metadata": {
        "id": "I8cRD8ds1Y3s"
      },
      "source": [
        "####Imports"
      ]
    },
    {
      "cell_type": "code",
      "metadata": {
        "id": "65oUBvn81aNj"
      },
      "source": [
        "import os"
      ],
      "execution_count": null,
      "outputs": []
    },
    {
      "cell_type": "code",
      "metadata": {
        "id": "IeQNPlVi1bw5"
      },
      "source": [
        "from PIL import Image, ImageOps\n",
        "import numpy as np"
      ],
      "execution_count": null,
      "outputs": []
    },
    {
      "cell_type": "code",
      "metadata": {
        "id": "-Xgj3abA1dXx"
      },
      "source": [
        "from pathlib import Path"
      ],
      "execution_count": null,
      "outputs": []
    },
    {
      "cell_type": "markdown",
      "metadata": {
        "id": "PZFBcboi1jvM"
      },
      "source": [
        "####Data creation    "
      ]
    },
    {
      "cell_type": "markdown",
      "metadata": {
        "id": "T3bUMjn9-BOR"
      },
      "source": [
        "Order when naming files... ()inverted,rotated."
      ]
    },
    {
      "cell_type": "code",
      "metadata": {
        "id": "7zmYSzy61jOs"
      },
      "source": [
        "itt=0\n",
        "for filename in os.listdir(fold):\n",
        "    if itt==0:\n",
        "        #print(os.path.join(fold, filename))\n",
        "        #print(filename)          #............................. .png included\n",
        "        \n",
        "        \n",
        "      p1 = Image.open(os.path.join(fold, filename))           #p is the image\n",
        "        #display(p) \n",
        "      p = ImageOps.grayscale(p1)\n",
        "\n",
        "      invert = ImageOps.invert(p)          #........invert colors\n",
        "\n",
        "      r_90 = p.rotate(90)                  #...........note: rotates counter clockwise\n",
        "\n",
        "      r_180 = p.rotate(180)           #................afdfdsafdsf\n",
        "\n",
        "      r_270 = p.rotate(270)                #.............fdfdasfdsfsdaf\n",
        "\n",
        "      inv_90 = invert.rotate(90)\n",
        "\n",
        "      inv_180 = invert.rotate(180) \n",
        "\n",
        "      inv_270 = invert.rotate(270)\n",
        "      \n",
        "      p.save(fold+filename,format=\"png\")\n",
        "      invert.save(fold+\"inverted_\"+filename,format=\"png\")\n",
        "      r_90.save(fold+\"rotated_90_\"+filename,format=\"png\")\n",
        "      r_180.save(fold+\"rotated_180_\"+filename,format=\"png\")\n",
        "      r_270.save(fold+\"rotated_270_\"+filename,format=\"png\")\n",
        "      inv_90.save(fold+\"inverted_rotated_90_\"+filename,format=\"png\")\n",
        "      inv_180.save(fold+\"inverted_rotated_180_\"+filename,format=\"png\")\n",
        "      inv_270.save(fold+\"inverted_rotated_270_\"+filename,format=\"png\")\n",
        "    else:\n",
        "        continue"
      ],
      "execution_count": null,
      "outputs": []
    },
    {
      "cell_type": "code",
      "metadata": {
        "colab": {
          "base_uri": "https://localhost:8080/"
        },
        "id": "bhAvzITq-PpK",
        "outputId": "0338b938-9c60-4eb7-8384-4fba661d92f0"
      },
      "source": [
        "p = \"abc.jpg\"\r\n",
        "print(p[:-4]+\".png\")\r\n",
        "\r\n",
        "os.listdir(fold[:-4])"
      ],
      "execution_count": null,
      "outputs": [
        {
          "output_type": "stream",
          "text": [
            "abc.png\n"
          ],
          "name": "stdout"
        },
        {
          "output_type": "execute_result",
          "data": {
            "text/plain": [
              "['line2', 'rectangle', 'Ra15']"
            ]
          },
          "metadata": {
            "tags": []
          },
          "execution_count": 83
        }
      ]
    }
  ]
}